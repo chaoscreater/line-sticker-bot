{
 "cells": [
  {
   "cell_type": "code",
   "execution_count": 1,
   "metadata": {
    "collapsed": false
   },
   "outputs": [],
   "source": [
    "from __future__ import print_function\n",
    "\n",
    "import collections\n",
    "import math\n",
    "import numpy as np\n",
    "import os\n",
    "import random\n",
    "import tensorflow as tf\n",
    "from six.moves import range\n",
    "import MeCab\n",
    "import cPickle as pickle\n",
    "\n",
    "import app.common.utils as utils\n",
    "from app.models.sequence import Sequence\n",
    "from app.tensorflow.batch_generator import BatchGenerator\n",
    "from app.tensorflow.train import model\n",
    "import app.common.settings as settings\n",
    "\n",
    "mecab = utils.mecab"
   ]
  },
  {
   "cell_type": "code",
   "execution_count": 2,
   "metadata": {
    "collapsed": false
   },
   "outputs": [
    {
     "name": "stdout",
     "output_type": "stream",
     "text": [
      "おはよう 御座い ます \n",
      "\n"
     ]
    }
   ],
   "source": [
    "print(mecab.parse('おはよう御座います'))"
   ]
  },
  {
   "cell_type": "code",
   "execution_count": 3,
   "metadata": {
    "collapsed": false
   },
   "outputs": [
    {
     "name": "stdout",
     "output_type": "stream",
     "text": [
      "おはよう ござい ます \n",
      "\n"
     ]
    }
   ],
   "source": [
    "print(mecab.parse('おはようございます'))"
   ]
  },
  {
   "cell_type": "code",
   "execution_count": 4,
   "metadata": {
    "collapsed": false
   },
   "outputs": [
    {
     "name": "stdout",
     "output_type": "stream",
     "text": [
      "御座る \n",
      "\n"
     ]
    }
   ],
   "source": [
    "print(mecab.parse('御座る'))"
   ]
  },
  {
   "cell_type": "code",
   "execution_count": 5,
   "metadata": {
    "collapsed": false
   },
   "outputs": [
    {
     "name": "stdout",
     "output_type": "stream",
     "text": [
      "動く 凱 は お初 じゃ ない ？ \n",
      "\n",
      "動く\n",
      "凱\n",
      "は\n",
      "お初\n",
      "じゃ\n",
      "ない\n",
      "？\n"
     ]
    }
   ],
   "source": [
    "print(mecab.parse('動く凱はお初じゃない？'))\n",
    "words = mecab.parse('動く凱はお初じゃない？').split()\n",
    "for w in words:\n",
    "  print(w)"
   ]
  },
  {
   "cell_type": "code",
   "execution_count": null,
   "metadata": {
    "collapsed": false
   },
   "outputs": [
    {
     "name": "stdout",
     "output_type": "stream",
     "text": [
      "Training...\n",
      "-----------Step 0:-------------\n",
      "Training set:\n",
      "  Loss       :  3.82859\n",
      "  Input      :  [6671, 1968, 8746, 3, 4985, 0, 0, 0, 0, 0]\n",
      "  Label      :  524\n",
      "  Prediction :  26\n",
      "-----------Step 1000:-------------\n",
      "Training set:\n",
      "  Loss       :  1.66472\n",
      "  Input      :  [336, 6268, 181, 101, 11, 0, 0, 0, 0, 0]\n",
      "  Label      :  157\n",
      "  Prediction :  36\n",
      "-----------Step 2000:-------------\n",
      "Training set:\n",
      "  Loss       :  1.79741\n",
      "  Input      :  [43, 10, 0, 0, 0, 0, 0, 0, 0, 0]\n",
      "  Label      :  179\n",
      "  Prediction :  36\n",
      "-----------Step 3000:-------------\n",
      "Training set:\n",
      "  Loss       :  1.87234\n",
      "  Input      :  [42, 39, 0, 0, 0, 0, 0, 0, 0, 0]\n",
      "  Label      :  172\n",
      "  Prediction :  172\n",
      "-----------Step 4000:-------------\n",
      "Training set:\n",
      "  Loss       :  2.24367\n",
      "  Input      :  [1632, 1732, 1632, 0, 0, 0, 0, 0, 0, 0]\n",
      "  Label      :  144\n",
      "  Prediction :  144\n",
      "-----------Step 5000:-------------\n",
      "Training set:\n",
      "  Loss       :  1.94571\n",
      "  Input      :  [276, 294, 103, 255, 0, 0, 0, 0, 0, 0]\n",
      "  Label      :  36\n",
      "  Prediction :  514\n",
      "-----------Step 6000:-------------\n",
      "Training set:\n",
      "  Loss       :  1.66231\n",
      "  Input      :  [1132, 1, 5, 6197, 2229, 24, 0, 0, 0, 0]\n",
      "  Label      :  150\n",
      "  Prediction :  514\n",
      "-----------Step 7000:-------------\n",
      "Training set:\n",
      "  Loss       :  1.71024\n",
      "  Input      :  [182, 7, 0, 0, 0, 0, 0, 0, 0, 0]\n",
      "  Label      :  526\n",
      "  Prediction :  163\n",
      "-----------Step 8000:-------------\n",
      "Training set:\n",
      "  Loss       :  0.675384\n",
      "  Input      :  [80, 24, 14, 11, 0, 0, 0, 0, 0, 0]\n",
      "  Label      :  37\n",
      "  Prediction :  37\n",
      "-----------Step 9000:-------------\n",
      "Training set:\n",
      "  Loss       :  2.03937\n",
      "  Input      :  [1, 13, 190, 0, 0, 0, 0, 0, 0, 0]\n",
      "  Label      :  39\n",
      "  Prediction :  527\n",
      "-----------Step 10000:-------------\n",
      "Training set:\n",
      "  Loss       :  1.65601\n",
      "  Input      :  [1344, 1234, 20, 116, 31, 0, 0, 0, 0, 0]\n",
      "  Label      :  34\n",
      "  Prediction :  34\n",
      "-----------Step 11000:-------------\n",
      "Training set:\n",
      "  Loss       :  2.18543\n",
      "  Input      :  [252, 17, 314, 6, 255, 6, 1696, 5, 878, 0]\n",
      "  Label      :  23\n",
      "  Prediction :  24\n",
      "-----------Step 12000:-------------\n",
      "Training set:\n",
      "  Loss       :  2.06477\n",
      "  Input      :  [42, 39, 0, 0, 0, 0, 0, 0, 0, 0]\n",
      "  Label      :  172\n",
      "  Prediction :  172\n",
      "-----------Step 13000:-------------\n",
      "Training set:\n",
      "  Loss       :  2.00229\n",
      "  Input      :  [41, 15, 525, 1, 16, 2688, 2, 1699, 6, 7]\n",
      "  Label      :  157\n",
      "  Prediction :  157\n",
      "-----------Step 14000:-------------\n",
      "Training set:\n",
      "  Loss       :  2.26118\n",
      "  Input      :  [42, 39, 0, 0, 0, 0, 0, 0, 0, 0]\n",
      "  Label      :  172\n",
      "  Prediction :  172\n",
      "-----------Step 15000:-------------\n",
      "Training set:\n",
      "  Loss       :  1.99382\n",
      "  Input      :  [51, 455, 62, 1861, 5793, 59, 2858, 36, 0, 0]\n",
      "  Label      :  39\n",
      "  Prediction :  155\n",
      "-----------Step 16000:-------------\n",
      "Training set:\n",
      "  Loss       :  1.48409\n",
      "  Input      :  [28, 45, 7, 1144, 0, 0, 0, 0, 0, 0]\n",
      "  Label      :  172\n",
      "  Prediction :  24\n",
      "-----------Step 17000:-------------\n",
      "Training set:\n",
      "  Loss       :  2.13112\n",
      "  Input      :  [1381, 1, 5, 276, 10, 23, 0, 0, 0, 0]\n",
      "  Label      :  24\n",
      "  Prediction :  171\n",
      "-----------Step 18000:-------------\n",
      "Training set:\n",
      "  Loss       :  1.36094\n",
      "  Input      :  [1, 434, 926, 0, 0, 0, 0, 0, 0, 0]\n",
      "  Label      :  18\n",
      "  Prediction :  18\n",
      "-----------Step 19000:-------------\n",
      "Training set:\n",
      "  Loss       :  1.82097\n",
      "  Input      :  [544, 9, 1, 10, 0, 0, 0, 0, 0, 0]\n",
      "  Label      :  34\n",
      "  Prediction :  34\n",
      "-----------Step 20000:-------------\n",
      "Training set:\n",
      "  Loss       :  1.6584\n",
      "  Input      :  [341, 124, 209, 339, 1470, 5, 56, 4, 131, 16]\n",
      "  Label      :  167\n",
      "  Prediction :  34\n"
     ]
    }
   ],
   "source": [
    "graph = tf.Graph()\n",
    "inputs, labels, sequence_lengths, optimizer, loss, predictions, summary_op, saver = model(graph)\n",
    "train_writer = tf.train.SummaryWriter('tensorboard/train', graph)\n",
    "test_writer = tf.train.SummaryWriter('tensorboard/test', graph)\n",
    "with tf.Session(graph=graph) as sess:\n",
    "    sess.run(tf.initialize_all_variables())\n",
    "    print(\"Training...\")\n",
    "    train_batches = BatchGenerator(settings.BATCH_SIZE)\n",
    "    test_batches = BatchGenerator(3000, settings.SEQUENCE_LIMIT)\n",
    "    test_inputs, test_labels, test_sequence_lengths = test_batches.next()\n",
    "\n",
    "    for step in xrange(settings.EPOCH):\n",
    "        if step % 1000 != 1:\n",
    "            train_inputs, train_labels, train_sequence_lengths = train_batches.next()\n",
    "            feed_dict = { inputs: train_inputs, labels: train_labels, sequence_lengths: train_sequence_lengths }\n",
    "            _, train_loss, train_predictions, summary = sess.run([optimizer, loss, predictions, summary_op], feed_dict=feed_dict)\n",
    "            train_writer.add_summary(summary, step)\n",
    "            train_writer.flush()\n",
    "        else:\n",
    "            test_feed_dict = { inputs: test_inputs, labels: test_labels, sequence_lengths: test_sequence_lengths }\n",
    "            test_loss, summary = sess.run([loss, summary_op], feed_dict=test_feed_dict)\n",
    "            test_writer.add_summary(summary, step)\n",
    "            test_writer.flush()\n",
    "\n",
    "        if step % 1000 == 0:\n",
    "            print('-----------Step %d:-------------' % step)\n",
    "            print('Training set:')\n",
    "            print('  Loss       : ', train_loss)\n",
    "            print('  Input      : ', train_inputs[0])\n",
    "            print('  Label      : ', utils.onehot2sticker(train_labels))\n",
    "            print('  Prediction : ', utils.onehot2sticker(train_predictions))"
   ]
  },
  {
   "cell_type": "code",
   "execution_count": null,
   "metadata": {
    "collapsed": true
   },
   "outputs": [],
   "source": []
  }
 ],
 "metadata": {
  "kernelspec": {
   "display_name": "Python 2",
   "language": "python",
   "name": "python2"
  },
  "language_info": {
   "codemirror_mode": {
    "name": "ipython",
    "version": 2
   },
   "file_extension": ".py",
   "mimetype": "text/x-python",
   "name": "python",
   "nbconvert_exporter": "python",
   "pygments_lexer": "ipython2",
   "version": "2.7.11"
  }
 },
 "nbformat": 4,
 "nbformat_minor": 0
}
